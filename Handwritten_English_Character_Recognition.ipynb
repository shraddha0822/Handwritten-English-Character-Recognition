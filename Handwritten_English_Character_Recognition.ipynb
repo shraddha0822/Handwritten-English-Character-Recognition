{
  "nbformat": 4,
  "nbformat_minor": 0,
  "metadata": {
    "colab": {
      "provenance": [],
      "authorship_tag": "ABX9TyMDPm9APV5CWB0bw1bJLupw",
      "include_colab_link": true
    },
    "kernelspec": {
      "name": "python3",
      "display_name": "Python 3"
    },
    "language_info": {
      "name": "python"
    }
  },
  "cells": [
    {
      "cell_type": "markdown",
      "metadata": {
        "id": "view-in-github",
        "colab_type": "text"
      },
      "source": [
        "<a href=\"https://colab.research.google.com/github/shraddha0822/Handwritten-English-Character-Recognition/blob/main/Handwritten_English_Character_Recognition.ipynb\" target=\"_parent\"><img src=\"https://colab.research.google.com/assets/colab-badge.svg\" alt=\"Open In Colab\"/></a>"
      ]
    },
    {
      "cell_type": "code",
      "execution_count": null,
      "metadata": {
        "id": "dGJk4sRnxqlK"
      },
      "outputs": [],
      "source": [
        "# Import Libraries\n",
        "import numpy as np\n",
        "import pandas as pd\n",
        "import matplotlib.pyplot as plt\n",
        "import cv2\n",
        "from sklearn.model_selection import train_test_split\n",
        "from sklearn.utils import shuffle\n",
        "from keras.models import Sequential\n",
        "from keras.layers import Dense, Flatten, Conv2D, MaxPool2D, Dropout\n",
        "from keras.optimizers import SGD, Adam\n",
        "from tensorflow.keras.optimizers import SGD\n",
        "from keras import optimizers\n",
        "from keras.callbacks import ReduceLROnPlateau, EarlyStopping\n",
        "from keras.utils import to_categorical"
      ]
    },
    {
      "cell_type": "code",
      "source": [
        "# Read dataset with pandas\n",
        "my_data = pd.read_csv('/content/A_Z Handwritten Data.csv').astype('float32')\n",
        "my_data.head()"
      ],
      "metadata": {
        "id": "3xFPOTeYxzTu"
      },
      "execution_count": null,
      "outputs": []
    },
    {
      "cell_type": "code",
      "source": [
        "my_frame = pd.DataFrame(my_data)\n",
        "my_frame.head()"
      ],
      "metadata": {
        "id": "ys0H7kVxyUVf"
      },
      "execution_count": null,
      "outputs": []
    },
    {
      "cell_type": "code",
      "source": [
        "my_frame.shape"
      ],
      "metadata": {
        "id": "rQ0ZDka7yZjd"
      },
      "execution_count": null,
      "outputs": []
    },
    {
      "cell_type": "code",
      "source": [
        "my_frame.info()"
      ],
      "metadata": {
        "id": "kQFly_mYycQE"
      },
      "execution_count": null,
      "outputs": []
    },
    {
      "cell_type": "code",
      "source": [
        "my_frame.describe()"
      ],
      "metadata": {
        "id": "-Tc42P6w0F5k"
      },
      "execution_count": null,
      "outputs": []
    },
    {
      "cell_type": "code",
      "source": [
        "my_frame.isnull().sum()"
      ],
      "metadata": {
        "id": "HAEexVR10L0K"
      },
      "execution_count": null,
      "outputs": []
    },
    {
      "cell_type": "code",
      "source": [
        "# Split x and y columns from dataset\n",
        "x = my_frame.drop('0', axis = 1)\n",
        "y = my_frame['0']"
      ],
      "metadata": {
        "id": "Zjht2V_k0OiU"
      },
      "execution_count": null,
      "outputs": []
    },
    {
      "cell_type": "markdown",
      "source": [
        "###Reshaping images from dataset"
      ],
      "metadata": {
        "id": "TDvRyvt07L9h"
      }
    },
    {
      "cell_type": "code",
      "source": [
        "# Reshaping the train & test image data so that they can be displayed as an image of 28×28 pixels.\n",
        "# Initially in the CSV file they were present as 784 columns of pixel data.\n",
        "\n",
        "x_train, x_test, y_train, y_test = train_test_split(x, y, test_size = 0.2)\n",
        "x_train = np.reshape(x_train.values, (x_train.shape[0], 28, 28))\n",
        "x_test = np.reshape(x_test.values, (x_test.shape[0], 28, 28))\n",
        "\n",
        "print('Train Data Shape:', x_train.shape)\n",
        "print('Test Data Shape:', x_test.shape)"
      ],
      "metadata": {
        "id": "gHZqwFYK29kj"
      },
      "execution_count": null,
      "outputs": []
    },
    {
      "cell_type": "markdown",
      "source": [
        "### Creating dictionary of alphabets with indices"
      ],
      "metadata": {
        "id": "3HyTpYiw7vOt"
      }
    },
    {
      "cell_type": "code",
      "source": [
        "# All the labels are present in the form of floating point values,that are converted to integer values.\n",
        "# So we create word_dict to map the integer values with the characters.\n",
        "\n",
        "word_dict = {\n",
        "    0:'A',1:'B',2:'C',3:'D',4:'E',5:'F',6:'G',7:'H',8:'I',9:'J',10:'K',11:'L',12:'M',13:'N',14:'O',15:'P',16:'Q',17:'R',18:'S',19:'T',20:'U',21:'V',22:'W',23:'X', 24:'Y',25:'Z'\n",
        "}"
      ],
      "metadata": {
        "id": "iwojyStR3JTZ"
      },
      "execution_count": null,
      "outputs": []
    },
    {
      "cell_type": "markdown",
      "source": [
        "### Plotting the number of alphabets from dataset"
      ],
      "metadata": {
        "id": "oruoot5p8gQQ"
      }
    },
    {
      "cell_type": "code",
      "source": [
        "# Convert the labels into integer values and append into the count list according to the label.\n",
        "# Create a list 'alphabets' containing all the characters using the values() function of the dictionary.\n",
        "\n",
        "plt.style.use('fivethirtyeight')\n",
        "plt.xkcd()\n",
        "\n",
        "y_integer = np.int0(y)\n",
        "count = np.zeros(26, dtype = 'int')\n",
        "\n",
        "for i in y_integer:\n",
        "    count[i] += 1\n",
        "\n",
        "alphabets = []\n",
        "\n",
        "for i in word_dict.values():\n",
        "    alphabets.append(i)\n",
        "\n",
        "fig, ax = plt.subplots(1, 1, figsize = (15, 15))\n",
        "ax.barh(alphabets, count)\n",
        "\n",
        "plt.xlabel('Number Of Elements..!!', fontsize = 20, fontweight = 'bold', color = 'green')\n",
        "plt.ylabel('Alphabets..!!', fontsize = 30, fontweight = 'bold', color = 'green')\n",
        "plt.grid()\n",
        "plt.show()"
      ],
      "metadata": {
        "id": "_o5SRcbi3SIz"
      },
      "execution_count": null,
      "outputs": []
    },
    {
      "cell_type": "code",
      "source": [
        "# Shuffle images from dataset with shuffle() function to show random images.\n",
        "\n",
        "plt.style.use('fivethirtyeight')\n",
        "plt.xkcd()\n",
        "\n",
        "shuff = shuffle(x_train[:100])\n",
        "fig, ax = plt.subplots(3, 3, figsize = (15, 15))\n",
        "axes = ax.flatten()\n",
        "\n",
        "for i in range(9):\n",
        "    shu = cv2.threshold(shuff[i], 30, 200, cv2.THRESH_BINARY)\n",
        "    axes[i].imshow(np.reshape(shuff[i], (28, 28)), cmap = 'Greys')\n",
        "plt.show()"
      ],
      "metadata": {
        "id": "4y2fDsig3kxn"
      },
      "execution_count": null,
      "outputs": []
    },
    {
      "cell_type": "code",
      "source": [
        "# Reshaping train & test images from dataset to put in model\n",
        "# New shape of train data: (297960, 28, 28, 1)\n",
        "# New shape of test data: (74490, 28, 28, 1)\n",
        "\n",
        "x_train = x_train.reshape(x_train.shape[0], x_train.shape[1], x_train.shape[2], 1)\n",
        "print(\"New shape of train data:\", x_train.shape)\n",
        "\n",
        "x_test = x_test.reshape(x_test.shape[0], x_test.shape[1], x_test.shape[2], 1)\n",
        "print(\"New shape of test data:\", x_test.shape)"
      ],
      "metadata": {
        "id": "3BSsC2oR3vNz"
      },
      "execution_count": null,
      "outputs": []
    },
    {
      "cell_type": "code",
      "source": [
        "# Convert float values into categorical values\n",
        "\n",
        "categorical_train = to_categorical(y_train, num_classes = 26)\n",
        "print(\"New shape of train labels:\", categorical_train.shape)\n",
        "categorical_test = to_categorical(y_test, num_classes = 26)\n",
        "print(\"New shape of test labels:\", categorical_test.shape)"
      ],
      "metadata": {
        "id": "1Q0GvsIQ38Tt"
      },
      "execution_count": null,
      "outputs": []
    },
    {
      "cell_type": "markdown",
      "source": [
        "### Implementation of CNN"
      ],
      "metadata": {
        "id": "kuJEMVdp-tQ9"
      }
    },
    {
      "cell_type": "code",
      "source": [
        "my_model = Sequential()\n",
        "\n",
        "my_model.add(Conv2D(filters = 32, kernel_size = (3, 3), activation = 'relu', input_shape = (28, 28, 1)))\n",
        "my_model.add(MaxPool2D(pool_size = (2, 2), strides = 2))\n",
        "\n",
        "my_model.add(Conv2D(filters = 64, kernel_size = (3, 3), activation = 'relu', padding = 'same'))\n",
        "my_model.add(MaxPool2D(pool_size = (2, 2), strides = 2))\n",
        "\n",
        "my_model.add(Conv2D(filters = 128, kernel_size = (3, 3), activation = 'relu', padding = 'valid'))\n",
        "my_model.add(MaxPool2D(pool_size = (2, 2), strides = 2))\n",
        "\n",
        "my_model.add(Flatten())\n",
        "\n",
        "my_model.add(Dense(64, activation = \"relu\"))\n",
        "my_model.add(Dense(128, activation = \"relu\"))\n",
        "\n",
        "my_model.add(Dense(26, activation = \"softmax\"))"
      ],
      "metadata": {
        "id": "4Fsv-Xqp4GUy"
      },
      "execution_count": null,
      "outputs": []
    },
    {
      "cell_type": "markdown",
      "source": [
        "### Compiling the Mode"
      ],
      "metadata": {
        "id": "nS9HXlhD-mSg"
      }
    },
    {
      "cell_type": "code",
      "source": [
        "my_model.compile(optimizer = 'adam', loss = 'categorical_crossentropy', metrics = ['accuracy'])\n",
        "history = my_model.fit(x_train, categorical_train, epochs = 1, validation_data = (x_test, categorical_test))"
      ],
      "metadata": {
        "id": "jrAoC9FS4VzG"
      },
      "execution_count": null,
      "outputs": []
    },
    {
      "cell_type": "markdown",
      "source": [
        "### Getting summary of Model"
      ],
      "metadata": {
        "id": "IlDlLiPA-4y3"
      }
    },
    {
      "cell_type": "code",
      "source": [
        "my_model.summary()\n",
        "my_model.save(r'model_hand.h5')"
      ],
      "metadata": {
        "id": "5aA1hD2R4WqR"
      },
      "execution_count": null,
      "outputs": []
    },
    {
      "cell_type": "code",
      "source": [
        "# Find accuracy, loss of model\n",
        "\n",
        "print(\"The validation accuracy is :\", history.history['val_accuracy'])\n",
        "print(\"The training accuracy is :\", history.history['accuracy'])\n",
        "print(\"The validation loss is :\", history.history['val_loss'])\n",
        "print(\"The training loss is :\", history.history['loss'])"
      ],
      "metadata": {
        "id": "lcYmpGB34i2n"
      },
      "execution_count": null,
      "outputs": []
    },
    {
      "cell_type": "markdown",
      "source": [
        "### Making predictions on the test data"
      ],
      "metadata": {
        "id": "KbfPPHAz_HeT"
      }
    },
    {
      "cell_type": "code",
      "source": [
        "# Creating 9 subplots of (3,3) shape & visualizing some of the test dataset alphabets along with their predictions.\n",
        "\n",
        "plt.style.use('fivethirtyeight')\n",
        "plt.xkcd()\n",
        "\n",
        "fig, axes = plt.subplots(3, 3, figsize = (12, 15))\n",
        "axes = axes.flatten()\n",
        "\n",
        "for i, ax in enumerate(axes):\n",
        "    img = np.reshape(x_test[i], (28, 28))\n",
        "    ax.imshow(img, cmap = 'Greys')\n",
        "\n",
        "    pred = word_dict[np.argmax(categorical_test[i])]\n",
        "    ax.set_title(\"Prediction: \" + pred, fontsize = 20, fontweight = 'bold', color = 'red')\n",
        "    ax.grid()"
      ],
      "metadata": {
        "id": "PQ1Qj4B34p1n"
      },
      "execution_count": null,
      "outputs": []
    }
  ]
}