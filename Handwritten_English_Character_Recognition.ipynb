{
  "nbformat": 4,
  "nbformat_minor": 0,
  "metadata": {
    "colab": {
      "provenance": [],
      "authorship_tag": "ABX9TyOvPsoNEPbafB+jVcP815Xy",
      "include_colab_link": true
    },
    "kernelspec": {
      "name": "python3",
      "display_name": "Python 3"
    },
    "language_info": {
      "name": "python"
    }
  },
  "cells": [
    {
      "cell_type": "markdown",
      "metadata": {
        "id": "view-in-github",
        "colab_type": "text"
      },
      "source": [
        "<a href=\"https://colab.research.google.com/github/shraddha0822/Handwritten-English-Character-Recognition/blob/main/Handwritten_English_Character_Recognition.ipynb\" target=\"_parent\"><img src=\"https://colab.research.google.com/assets/colab-badge.svg\" alt=\"Open In Colab\"/></a>"
      ]
    },
    {
      "cell_type": "code",
      "execution_count": null,
      "metadata": {
        "id": "dGJk4sRnxqlK"
      },
      "outputs": [],
      "source": [
        "# Import Libraries\n",
        "import numpy as np\n",
        "import pandas as pd\n",
        "import matplotlib.pyplot as plt\n",
        "import cv2\n",
        "from sklearn.model_selection import train_test_split\n",
        "from sklearn.utils import shuffle\n",
        "from keras.models import Sequential\n",
        "from keras.layers import Dense, Flatten, Conv2D, MaxPool2D, Dropout\n",
        "from keras.optimizers import SGD, Adam\n",
        "from tensorflow.keras.optimizers import SGD\n",
        "from keras import optimizers\n",
        "from keras.callbacks import ReduceLROnPlateau, EarlyStopping\n",
        "from keras.utils import to_categorical"
      ]
    },
    {
      "cell_type": "code",
      "source": [
        "# Read dataset with pandas (python)\n",
        "my_data = pd.read_csv('/content/A_Z Handwritten Data.csv').astype('float32')\n",
        "my_data.head()"
      ],
      "metadata": {
        "id": "3xFPOTeYxzTu"
      },
      "execution_count": null,
      "outputs": []
    },
    {
      "cell_type": "code",
      "source": [
        "my_frame = pd.DataFrame(my_data)\n",
        "my_frame.head()"
      ],
      "metadata": {
        "id": "ys0H7kVxyUVf"
      },
      "execution_count": null,
      "outputs": []
    },
    {
      "cell_type": "code",
      "source": [
        "my_frame.shape"
      ],
      "metadata": {
        "id": "rQ0ZDka7yZjd"
      },
      "execution_count": null,
      "outputs": []
    },
    {
      "cell_type": "code",
      "source": [
        "my_frame.info()"
      ],
      "metadata": {
        "id": "kQFly_mYycQE"
      },
      "execution_count": null,
      "outputs": []
    },
    {
      "cell_type": "code",
      "source": [
        "my_frame.describe()"
      ],
      "metadata": {
        "id": "-Tc42P6w0F5k"
      },
      "execution_count": null,
      "outputs": []
    },
    {
      "cell_type": "code",
      "source": [
        "my_frame.isnull().sum()"
      ],
      "metadata": {
        "id": "HAEexVR10L0K"
      },
      "execution_count": null,
      "outputs": []
    },
    {
      "cell_type": "code",
      "source": [
        "# Split x and y column from dataset\n",
        "x = my_frame.drop('0', axis = 1)\n",
        "y = my_frame['0']"
      ],
      "metadata": {
        "id": "Zjht2V_k0OiU"
      },
      "execution_count": null,
      "outputs": []
    },
    {
      "cell_type": "code",
      "source": [
        "# Reshaping images from dataset\n",
        "# Reshaping the train & test image data so that they can be displayed as an image, as initially in the CSV file they were present as 784 columns of pixel data. So we convert it to 28×28 pixels.\n",
        "\n",
        "x_train, x_test, y_train, y_test = train_test_split(x, y, test_size = 0.2)\n",
        "x_train = np.reshape(x_train.values, (x_train.shape[0], 28, 28))\n",
        "x_test = np.reshape(x_test.values, (x_test.shape[0], 28, 28))\n",
        "\n",
        "print('Train Data Shape:', x_train.shape)\n",
        "print('Test Data Shape:', x_test.shape)"
      ],
      "metadata": {
        "id": "gHZqwFYK29kj"
      },
      "execution_count": null,
      "outputs": []
    },
    {
      "cell_type": "code",
      "source": [
        "# Creating dictionary of alphabets with indexes\n",
        "# All the labels are present in the form of floating point values, that we convert to integer values, so we create a dictionary word_dict to map the integer values with the characters.\n",
        "\n",
        "word_dict = {\n",
        "    0:'A',1:'B',2:'C',3:'D',4:'E',5:'F',6:'G',7:'H',8:'I',9:'J',10:'K',11:'L',12:'M',13:'N',14:'O',15:'P',16:'Q',17:'R',18:'S',19:'T',20:'U',21:'V',22:'W',23:'X', 24:'Y',25:'Z'\n",
        "}"
      ],
      "metadata": {
        "id": "iwojyStR3JTZ"
      },
      "execution_count": null,
      "outputs": []
    },
    {
      "cell_type": "code",
      "source": [
        "# Plotting number of alphabets from dataset\n",
        "# Plotting the number of alphabets in the dataset\n",
        "# 1): Firstly we convert the labels into integer values and append into the count list according to the label.\n",
        "#     This count list has the number of images present in the dataset belonging to each alphabet.\n",
        "# 2): Now we create a list – alphabets containing all the characters using the values() function of the dictionary.\n",
        "# 3): Now using the count & alphabets lists we draw the horizontal bar plot.\n",
        "\n",
        "plt.style.use('fivethirtyeight')\n",
        "plt.xkcd()\n",
        "\n",
        "y_integer = np.int0(y)\n",
        "count = np.zeros(26, dtype = 'int')\n",
        "\n",
        "for i in y_integer:\n",
        "    count[i] += 1\n",
        "\n",
        "alphabets = []\n",
        "\n",
        "for i in word_dict.values():\n",
        "    alphabets.append(i)\n",
        "\n",
        "fig, ax = plt.subplots(1, 1, figsize = (15, 15))\n",
        "ax.barh(alphabets, count)\n",
        "\n",
        "plt.xlabel('Number Of Elements..!!', fontsize = 20, fontweight = 'bold', color = 'green')\n",
        "plt.ylabel('Alphabets..!!', fontsize = 30, fontweight = 'bold', color = 'green')\n",
        "plt.grid()\n",
        "plt.show()"
      ],
      "metadata": {
        "id": "_o5SRcbi3SIz"
      },
      "execution_count": null,
      "outputs": []
    },
    {
      "cell_type": "code",
      "source": [
        "# Shuffle images from dataset with shuffle() function to show random images\n",
        "# Now we shuffle the data with the shuffle() function to show the random images..\n",
        "\n",
        "plt.style.use('fivethirtyeight')\n",
        "plt.xkcd()\n",
        "\n",
        "shuff = shuffle(x_train[:100])\n",
        "fig, ax = plt.subplots(3, 3, figsize = (15, 15))\n",
        "axes = ax.flatten()\n",
        "\n",
        "for i in range(9):\n",
        "    shu = cv2.threshold(shuff[i], 30, 200, cv2.THRESH_BINARY)\n",
        "    axes[i].imshow(np.reshape(shuff[i], (28, 28)), cmap = 'Greys')\n",
        "plt.show()"
      ],
      "metadata": {
        "id": "4y2fDsig3kxn"
      },
      "execution_count": null,
      "outputs": []
    },
    {
      "cell_type": "code",
      "source": [
        "# Reshaping train & test images from dataset to put in Deep Learning Model\n",
        "# Reshaping the training & test dataset so that it can be put in the model\n",
        "# Now we reshape the train & test image dataset so that they can be put in the model.\n",
        "# New shape of train data: (297960, 28, 28, 1)\n",
        "# New shape of test data: (74490, 28, 28, 1)\n",
        "\n",
        "x_train = x_train.reshape(x_train.shape[0], x_train.shape[1], x_train.shape[2], 1)\n",
        "print(\"New shape of train data:\", x_train.shape)\n",
        "\n",
        "x_test = x_test.reshape(x_test.shape[0], x_test.shape[1], x_test.shape[2], 1)\n",
        "print(\"New shape of test data:\", x_test.shape)"
      ],
      "metadata": {
        "id": "3BSsC2oR3vNz"
      },
      "execution_count": null,
      "outputs": []
    },
    {
      "cell_type": "code",
      "source": [
        "# Convert float values into categorical values\n",
        "# Here we convert the single float values to categorical values.\n",
        "# This is done as the CNN model takes input of labels & generates the output as a vector of probabilities.\n",
        "\n",
        "# What is CNN?\n",
        "#   CNN stands for Convolutional Neural Networks\n",
        "#   that are used to extract the features of the images using several layers of filters.\n",
        "\n",
        "categorical_train = to_categorical(y_train, num_classes = 26, dtype = 'int')\n",
        "print(\"New shape of train labels:\", categorical_train.shape)\n",
        "categorical_test = to_categorical(y_test, num_classes = 26, dtype = 'int')\n",
        "print(\"New shape of test labels:\", categorical_test.shape)"
      ],
      "metadata": {
        "id": "1Q0GvsIQ38Tt"
      },
      "execution_count": null,
      "outputs": []
    },
    {
      "cell_type": "code",
      "source": [
        "# The convolution layers are generally followed by maxpool layers that are used to reduce the number of features extracted and\n",
        "# ultimately the output of the maxpool and layers and convolution layers are flattened into a vector of single dimension and\n",
        "# are given as an input to the Dense layer (The fully connected network)."
      ],
      "metadata": {
        "id": "PnA4t71x4DiS"
      },
      "execution_count": null,
      "outputs": []
    },
    {
      "cell_type": "code",
      "source": [
        "# Implementation of Deep Learning Model\n",
        "# We have the Sequential model that we designed for training the model over the training dataset.\n",
        "# The model created is as follows:\n",
        "\n",
        "# Sequential() Model: A Sequential model is appropriate for a plain stack of layers\n",
        "# where each layer has exactly one input tensor and one output tensor.\n",
        "\n",
        "# MaxPool2D: The input along its spatial dimensions (height and width) by taking the maximum value over an input window\n",
        "#(of size defined by pool_size) for each channel of the input. The window is shifted by strides along each dimension.\n",
        "my_model = Sequential()\n",
        "\n",
        "my_model.add(Conv2D(filters = 32, kernel_size = (3, 3), activation = 'relu', input_shape = (28, 28, 1)))\n",
        "my_model.add(MaxPool2D(pool_size = (2, 2), strides = 2))\n",
        "\n",
        "my_model.add(Conv2D(filters = 64, kernel_size = (3, 3), activation = 'relu', padding = 'same'))\n",
        "my_model.add(MaxPool2D(pool_size = (2, 2), strides = 2))\n",
        "\n",
        "my_model.add(Conv2D(filters = 128, kernel_size = (3, 3), activation = 'relu', padding = 'valid'))\n",
        "my_model.add(MaxPool2D(pool_size = (2, 2), strides = 2))\n",
        "\n",
        "my_model.add(Flatten())\n",
        "\n",
        "my_model.add(Dense(64, activation = \"relu\"))\n",
        "my_model.add(Dense(128, activation = \"relu\"))\n",
        "\n",
        "my_model.add(Dense(26, activation = \"softmax\"))"
      ],
      "metadata": {
        "id": "4Fsv-Xqp4GUy"
      },
      "execution_count": null,
      "outputs": []
    },
    {
      "cell_type": "code",
      "source": [
        "# Compiling the Mode\n",
        "# 1): Here we are compiling the model, where we define the optimizing function & the loss function to be used for fitting.\n",
        "# 2): The optimizing function used is Adam, that is a combination of RMSprop & Adagram optimizing algorithms.\n",
        "# 3): The dataset is very large so we are training for only a single epoch,\n",
        "#     however, as required we can even train it for multiple epochs\n",
        "#     (which is recommended for character recognition for better accuracy).\n",
        "\n",
        "my_model.compile(optimizer = 'adam', loss = 'categorical_crossentropy', metrics = ['accuracy'])\n",
        "history = my_model.fit(x_train, categorical_train, epochs = 1, validation_data = (x_test, categorical_test))"
      ],
      "metadata": {
        "id": "jrAoC9FS4VzG"
      },
      "execution_count": null,
      "outputs": []
    },
    {
      "cell_type": "code",
      "source": [
        "# Getting summary of Model\n",
        "# Now we are getting the model summary that tells us what were the different layers defined in the model &\n",
        "# also we save the model using model.save() function.\n",
        "\n",
        "my_model.summary()\n",
        "my_model.save(r'model_hand.h5')"
      ],
      "metadata": {
        "id": "5aA1hD2R4WqR"
      },
      "execution_count": null,
      "outputs": []
    },
    {
      "cell_type": "code",
      "source": [
        "# Find accuracy, losses of Model\n",
        "# we print out the training & validation accuracies along with the training & validation losses for character recognition.\n",
        "\n",
        "print(\"The validation accuracy is :\", history.history['val_accuracy'])\n",
        "print(\"The training accuracy is :\", history.history['accuracy'])\n",
        "print(\"The validation loss is :\", history.history['val_loss'])\n",
        "print(\"The training loss is :\", history.history['loss'])"
      ],
      "metadata": {
        "id": "lcYmpGB34i2n"
      },
      "execution_count": null,
      "outputs": []
    },
    {
      "cell_type": "code",
      "source": [
        "# Finally, make predictions on the test data\n",
        "# Here we are creating 9 subplots of (3,3) shape & visualize some of the test dataset alphabets along with their predictions,\n",
        "# that are made using the model.predict() function for text recognition.\n",
        "\n",
        "plt.style.use('fivethirtyeight')\n",
        "plt.xkcd()\n",
        "\n",
        "fig, axes = plt.subplots(3, 3, figsize = (12, 15))\n",
        "axes = axes.flatten()\n",
        "\n",
        "for i, ax in enumerate(axes):\n",
        "    img = np.reshape(x_test[i], (28, 28))\n",
        "    ax.imshow(img, cmap = 'Greys')\n",
        "\n",
        "    pred = word_dict[np.argmax(categorical_test[i])]\n",
        "    ax.set_title(\"Prediction: \" + pred, fontsize = 20, fontweight = 'bold', color = 'red')\n",
        "    ax.grid()"
      ],
      "metadata": {
        "id": "PQ1Qj4B34p1n"
      },
      "execution_count": null,
      "outputs": []
    }
  ]
}